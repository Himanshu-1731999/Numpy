{
 "cells": [
  {
   "cell_type": "code",
   "execution_count": 1,
   "id": "efc4ce7b-9602-4dd3-bf9c-251696f4eea8",
   "metadata": {},
   "outputs": [
    {
     "ename": "NameError",
     "evalue": "name 'np' is not defined",
     "output_type": "error",
     "traceback": [
      "\u001b[1;31m---------------------------------------------------------------------------\u001b[0m",
      "\u001b[1;31mNameError\u001b[0m                                 Traceback (most recent call last)",
      "Cell \u001b[1;32mIn[1], line 1\u001b[0m\n\u001b[1;32m----> 1\u001b[0m a2 \u001b[38;5;241m=\u001b[39m np\u001b[38;5;241m.\u001b[39marange(\u001b[38;5;241m12\u001b[39m,dtype\u001b[38;5;241m=\u001b[39m\u001b[38;5;28mfloat\u001b[39m)\u001b[38;5;241m.\u001b[39mreshape(\u001b[38;5;241m3\u001b[39m,\u001b[38;5;241m4\u001b[39m)\n",
      "\u001b[1;31mNameError\u001b[0m: name 'np' is not defined"
     ]
    }
   ],
   "source": [
    "a2 = np.arange(12,dtype=float).reshape(3,4)"
   ]
  },
  {
   "cell_type": "code",
   "execution_count": null,
   "id": "eaf98f20-b1f6-48d4-aad5-fc8b0deaa274",
   "metadata": {},
   "outputs": [],
   "source": []
  },
  {
   "cell_type": "code",
   "execution_count": 3,
   "id": "633b91de-a041-4a4a-bbbf-06f7c971d97a",
   "metadata": {},
   "outputs": [],
   "source": [
    "import numpy as np"
   ]
  },
  {
   "cell_type": "code",
   "execution_count": 5,
   "id": "2a100f42-9a43-4833-98b7-8e4da08028bc",
   "metadata": {},
   "outputs": [],
   "source": [
    "a2 = np.arange(12,dtype=float).reshape(3,4)"
   ]
  },
  {
   "cell_type": "code",
   "execution_count": 7,
   "id": "ccf312cd-9584-45cd-b136-10114c0814df",
   "metadata": {},
   "outputs": [
    {
     "data": {
      "text/plain": [
       "array([[ 0.,  1.,  2.,  3.],\n",
       "       [ 4.,  5.,  6.,  7.],\n",
       "       [ 8.,  9., 10., 11.]])"
      ]
     },
     "execution_count": 7,
     "metadata": {},
     "output_type": "execute_result"
    }
   ],
   "source": [
    "a2"
   ]
  },
  {
   "cell_type": "code",
   "execution_count": 9,
   "id": "d8003377-7474-474f-8d93-3936c8cff272",
   "metadata": {},
   "outputs": [],
   "source": [
    "a3 = np.arange(8).reshape(2,2,2)"
   ]
  },
  {
   "cell_type": "code",
   "execution_count": 11,
   "id": "e9bdf6c0-5b60-445c-9265-77e1d3acf07e",
   "metadata": {},
   "outputs": [
    {
     "data": {
      "text/plain": [
       "array([[[0, 1],\n",
       "        [2, 3]],\n",
       "\n",
       "       [[4, 5],\n",
       "        [6, 7]]])"
      ]
     },
     "execution_count": 11,
     "metadata": {},
     "output_type": "execute_result"
    }
   ],
   "source": [
    "a3"
   ]
  },
  {
   "cell_type": "code",
   "execution_count": 13,
   "id": "61b15fac-5240-4fbe-b9fe-11f8bd40ad23",
   "metadata": {},
   "outputs": [],
   "source": [
    "x = np.arange(27).reshape((3,3,3))"
   ]
  },
  {
   "cell_type": "code",
   "execution_count": 15,
   "id": "c79c1f88-f4eb-4295-b29f-e36715123edf",
   "metadata": {},
   "outputs": [
    {
     "data": {
      "text/plain": [
       "array([[[ 0,  1,  2],\n",
       "        [ 3,  4,  5],\n",
       "        [ 6,  7,  8]],\n",
       "\n",
       "       [[ 9, 10, 11],\n",
       "        [12, 13, 14],\n",
       "        [15, 16, 17]],\n",
       "\n",
       "       [[18, 19, 20],\n",
       "        [21, 22, 23],\n",
       "        [24, 25, 26]]])"
      ]
     },
     "execution_count": 15,
     "metadata": {},
     "output_type": "execute_result"
    }
   ],
   "source": [
    "x"
   ]
  },
  {
   "cell_type": "code",
   "execution_count": 17,
   "id": "1e2c00ca-24c1-495f-96a9-c6ef2cdb657b",
   "metadata": {},
   "outputs": [
    {
     "data": {
      "text/plain": [
       "array([[27, 30, 33],\n",
       "       [36, 39, 42],\n",
       "       [45, 48, 51]])"
      ]
     },
     "execution_count": 17,
     "metadata": {},
     "output_type": "execute_result"
    }
   ],
   "source": [
    "x.sum(axis=0)"
   ]
  },
  {
   "cell_type": "code",
   "execution_count": 1,
   "id": "481250b4-b8ef-4bd6-a2da-157c77fb56a6",
   "metadata": {},
   "outputs": [
    {
     "name": "stdout",
     "output_type": "stream",
     "text": [
      "[1 2 3]\n"
     ]
    }
   ],
   "source": [
    "import numpy as np\n",
    "\n",
    "arr = np.array([1.2, 2.5, 3.8])\n",
    "new_arr = arr.astype(int)\n",
    "\n",
    "print(new_arr)"
   ]
  },
  {
   "cell_type": "code",
   "execution_count": 5,
   "id": "77bec022-e9e5-48d1-b301-df9a63bfd2d0",
   "metadata": {},
   "outputs": [
    {
     "name": "stdout",
     "output_type": "stream",
     "text": [
      "[1 2 3]\n"
     ]
    }
   ],
   "source": [
    "a = np.array([1.2, 2.5, 3.8])\n",
    "b = a.astype(int)\n",
    "\n",
    "print(b)"
   ]
  },
  {
   "cell_type": "code",
   "execution_count": 9,
   "id": "9c4a9175-91f7-49a2-9401-e80ce984f63b",
   "metadata": {},
   "outputs": [],
   "source": [
    "a1 = np.arange(12).reshape(3,4)"
   ]
  },
  {
   "cell_type": "code",
   "execution_count": 11,
   "id": "a9d62a62-2eb6-4162-87f3-f84bbb57307b",
   "metadata": {},
   "outputs": [
    {
     "data": {
      "text/plain": [
       "array([[ 0,  1,  2,  3],\n",
       "       [ 4,  5,  6,  7],\n",
       "       [ 8,  9, 10, 11]])"
      ]
     },
     "execution_count": 11,
     "metadata": {},
     "output_type": "execute_result"
    }
   ],
   "source": [
    "a1"
   ]
  },
  {
   "cell_type": "code",
   "execution_count": 13,
   "id": "ac91dd40-56c0-4f40-9163-e1872c106e2c",
   "metadata": {},
   "outputs": [
    {
     "data": {
      "text/plain": [
       "array([[  0,   1,   4,   9],\n",
       "       [ 16,  25,  36,  49],\n",
       "       [ 64,  81, 100, 121]])"
      ]
     },
     "execution_count": 13,
     "metadata": {},
     "output_type": "execute_result"
    }
   ],
   "source": [
    "# scalar operations\n",
    "\n",
    "# arithmetic\n",
    "a1 ** 2"
   ]
  },
  {
   "cell_type": "code",
   "execution_count": 17,
   "id": "5bde14df-1d20-4be6-a835-4899ce13570e",
   "metadata": {},
   "outputs": [
    {
     "data": {
      "text/plain": [
       "array([[False, False, False, False],\n",
       "       [False, False, False, False],\n",
       "       [False, False, False, False]])"
      ]
     },
     "execution_count": 17,
     "metadata": {},
     "output_type": "execute_result"
    }
   ],
   "source": [
    "# relational\n",
    "a1 == 15"
   ]
  },
  {
   "cell_type": "code",
   "execution_count": 19,
   "id": "b5e1e96f-0bec-4ea5-a2a1-34a0f3212887",
   "metadata": {},
   "outputs": [
    {
     "name": "stdout",
     "output_type": "stream",
     "text": [
      "np.array():\n",
      " [1 3 5]\n",
      "\n",
      "np.zeros():\n",
      " [[0. 0. 0.]\n",
      " [0. 0. 0.]\n",
      " [0. 0. 0.]]\n",
      "\n",
      "np.ones():\n",
      " [[1. 1. 1. 1.]\n",
      " [1. 1. 1. 1.]]\n"
     ]
    }
   ],
   "source": [
    "import numpy as np\n",
    "\n",
    "# create an array using np.array()\n",
    "array1 = np.array([1, 3, 5])\n",
    "print(\"np.array():\\n\", array1)\n",
    "\n",
    "# create an array filled with zeros using np.zeros()\n",
    "array2 = np.zeros((3, 3))\n",
    "print(\"\\nnp.zeros():\\n\", array2)\n",
    "\n",
    "# create an array filled with ones using np.ones()\n",
    "array3 = np.ones((2, 4))\n",
    "print(\"\\nnp.ones():\\n\", array3)"
   ]
  },
  {
   "cell_type": "code",
   "execution_count": 23,
   "id": "0f6fd537-67ff-4a33-ad06-dc52ae4ac8a5",
   "metadata": {},
   "outputs": [],
   "source": [
    "import numpy as np\n",
    "\n",
    "# create a 1D array\n",
    "array1 = np.array([1, 3, 5, 7, 9, 11])\n",
    "\n",
    "# reshape the 1D array into a 2D array\n",
    "array2 = np.reshape(array1, (2, 3))\n",
    "\n",
    "# transpose the 2D array\n",
    "array3 = np.transpose(array2)"
   ]
  },
  {
   "cell_type": "code",
   "execution_count": 25,
   "id": "569aaae5-9406-4dee-bc60-b87a98ee0f7c",
   "metadata": {},
   "outputs": [
    {
     "data": {
      "text/plain": [
       "array([ 1,  3,  5,  7,  9, 11])"
      ]
     },
     "execution_count": 25,
     "metadata": {},
     "output_type": "execute_result"
    }
   ],
   "source": [
    "array1"
   ]
  },
  {
   "cell_type": "code",
   "execution_count": 27,
   "id": "2092795f-7577-4c18-b4f9-db7d1ecd50d8",
   "metadata": {},
   "outputs": [
    {
     "data": {
      "text/plain": [
       "array([[ 1,  3,  5],\n",
       "       [ 7,  9, 11]])"
      ]
     },
     "execution_count": 27,
     "metadata": {},
     "output_type": "execute_result"
    }
   ],
   "source": [
    "array2"
   ]
  },
  {
   "cell_type": "code",
   "execution_count": 29,
   "id": "f8084a05-5d10-46b8-951d-b4be15f5a93d",
   "metadata": {},
   "outputs": [
    {
     "data": {
      "text/plain": [
       "array([[ 1,  7],\n",
       "       [ 3,  9],\n",
       "       [ 5, 11]])"
      ]
     },
     "execution_count": 29,
     "metadata": {},
     "output_type": "execute_result"
    }
   ],
   "source": [
    "array3"
   ]
  },
  {
   "cell_type": "code",
   "execution_count": 31,
   "id": "a40bffb6-377a-4572-93fa-97dc5a5bbedd",
   "metadata": {},
   "outputs": [],
   "source": [
    "import numpy as np\n",
    "\n",
    "# create two arrays\n",
    "array1 = np.array([1, 2, 3, 4, 5])\n",
    "array2 = np.array([4, 9, 16, 25, 36])\n",
    "\n",
    "# add the two arrays element-wise\n",
    "arr_sum = np.add(array1, array2)\n",
    "\n",
    "# subtract the array2 from array1 element-wise\n",
    "arr_diff = np.subtract(array1, array2)\n",
    "\n",
    "# compute square root of array2 element-wise\n",
    "arr_sqrt = np.sqrt(array2)"
   ]
  },
  {
   "cell_type": "code",
   "execution_count": 33,
   "id": "3254fd82-e8e6-4879-be1b-7bc7886b9094",
   "metadata": {},
   "outputs": [
    {
     "data": {
      "text/plain": [
       "array([ 5, 11, 19, 29, 41])"
      ]
     },
     "execution_count": 33,
     "metadata": {},
     "output_type": "execute_result"
    }
   ],
   "source": [
    "arr_sum"
   ]
  },
  {
   "cell_type": "code",
   "execution_count": 35,
   "id": "413cf457-2c09-4fab-bf0f-f925e5d90c92",
   "metadata": {},
   "outputs": [
    {
     "data": {
      "text/plain": [
       "array([ -3,  -7, -13, -21, -31])"
      ]
     },
     "execution_count": 35,
     "metadata": {},
     "output_type": "execute_result"
    }
   ],
   "source": [
    "arr_diff"
   ]
  },
  {
   "cell_type": "code",
   "execution_count": 37,
   "id": "40208454-c8d9-438f-a5ce-efcf0612275a",
   "metadata": {},
   "outputs": [
    {
     "data": {
      "text/plain": [
       "array([2., 3., 4., 5., 6.])"
      ]
     },
     "execution_count": 37,
     "metadata": {},
     "output_type": "execute_result"
    }
   ],
   "source": [
    "arr_sqrt"
   ]
  },
  {
   "cell_type": "code",
   "execution_count": 39,
   "id": "fb90172e-bd96-4685-8f88-9ce53040e730",
   "metadata": {},
   "outputs": [
    {
     "name": "stdout",
     "output_type": "stream",
     "text": [
      "Mean: 77.2\n",
      "Median: 78.0\n",
      "Minimum marks: 66\n",
      "Maximum marks: 85\n"
     ]
    }
   ],
   "source": [
    "import numpy as np\n",
    "\n",
    "# create a numpy array\n",
    "marks = np.array([76, 78, 81, 66, 85])\n",
    "\n",
    "# compute the mean of marks\n",
    "mean_marks = np.mean(marks)\n",
    "print(\"Mean:\",mean_marks)\n",
    "\n",
    "# compute the median of marks\n",
    "median_marks = np.median(marks)\n",
    "print(\"Median:\",median_marks)\n",
    "\n",
    "# find the minimum and maximum marks\n",
    "min_marks = np.min(marks)\n",
    "print(\"Minimum marks:\", min_marks)\n",
    "\n",
    "max_marks = np.max(marks)\n",
    "print(\"Maximum marks:\", max_marks)"
   ]
  },
  {
   "cell_type": "code",
   "execution_count": null,
   "id": "a2579be8-9548-407b-a12a-322577594207",
   "metadata": {},
   "outputs": [],
   "source": []
  },
  {
   "cell_type": "code",
   "execution_count": null,
   "id": "d74d2298-53d4-4e3d-bddc-6ea0c6e09957",
   "metadata": {},
   "outputs": [],
   "source": [
    "#The mean is the average of a dataset. It's calculated by summing all the values and dividing by the number of values."
   ]
  },
  {
   "cell_type": "code",
   "execution_count": 41,
   "id": "654fc091-6e4a-4c7e-a0a5-495ab7808680",
   "metadata": {},
   "outputs": [
    {
     "name": "stdout",
     "output_type": "stream",
     "text": [
      "3.0\n"
     ]
    }
   ],
   "source": [
    "import numpy as np\n",
    "data = np.array([1, 2, 3, 4, 5])\n",
    "mean = np.mean(data)\n",
    "print(mean) # Output: 3.0"
   ]
  },
  {
   "cell_type": "code",
   "execution_count": null,
   "id": "e921d0c1-4a83-405a-a2ed-131186a82938",
   "metadata": {},
   "outputs": [],
   "source": [
    "#The median is the middle value in a sorted dataset. If the dataset has an even number of values, the median is the average of the two middle values."
   ]
  },
  {
   "cell_type": "code",
   "execution_count": 43,
   "id": "9f9dc80d-c37a-440b-8ebc-2e6d102ad1d4",
   "metadata": {},
   "outputs": [
    {
     "name": "stdout",
     "output_type": "stream",
     "text": [
      "3.0\n",
      "2.5\n"
     ]
    }
   ],
   "source": [
    "data = np.array([1, 2, 3, 4, 5])\n",
    "median = np.median(data)\n",
    "print(median) # Output: 3.0\n",
    "data_even = np.array([1, 2, 3, 4])\n",
    "median_even = np.median(data_even)\n",
    "print(median_even) # Output: 2.5"
   ]
  },
  {
   "cell_type": "code",
   "execution_count": 45,
   "id": "02f1a63c-93be-4a9a-bfd3-bcd8b669c798",
   "metadata": {},
   "outputs": [],
   "source": [
    "#The mode is the value that appears most frequently in a dataset. NumPy itself doesn't have a direct function for mode, but it can be found using scipy.stats"
   ]
  },
  {
   "cell_type": "code",
   "execution_count": 47,
   "id": "08207a78-b091-48de-9337-4e85029555ed",
   "metadata": {},
   "outputs": [
    {
     "ename": "IndexError",
     "evalue": "invalid index to scalar variable.",
     "output_type": "error",
     "traceback": [
      "\u001b[1;31m---------------------------------------------------------------------------\u001b[0m",
      "\u001b[1;31mIndexError\u001b[0m                                Traceback (most recent call last)",
      "Cell \u001b[1;32mIn[47], line 4\u001b[0m\n\u001b[0;32m      2\u001b[0m data \u001b[38;5;241m=\u001b[39m np\u001b[38;5;241m.\u001b[39marray([\u001b[38;5;241m1\u001b[39m, \u001b[38;5;241m2\u001b[39m, \u001b[38;5;241m2\u001b[39m, \u001b[38;5;241m3\u001b[39m, \u001b[38;5;241m4\u001b[39m])\n\u001b[0;32m      3\u001b[0m mode_result \u001b[38;5;241m=\u001b[39m stats\u001b[38;5;241m.\u001b[39mmode(data)\n\u001b[1;32m----> 4\u001b[0m mode \u001b[38;5;241m=\u001b[39m mode_result[\u001b[38;5;241m0\u001b[39m][\u001b[38;5;241m0\u001b[39m]\n\u001b[0;32m      5\u001b[0m \u001b[38;5;28mprint\u001b[39m(mode)\n",
      "\u001b[1;31mIndexError\u001b[0m: invalid index to scalar variable."
     ]
    }
   ],
   "source": [
    "from scipy import stats\n",
    "data = np.array([1, 2, 2, 3, 4])\n",
    "mode_result = stats.mode(data)\n",
    "mode = mode_result[0][0]\n",
    "print(mode) # Output: 2"
   ]
  },
  {
   "cell_type": "code",
   "execution_count": 49,
   "id": "8b379e76-a56a-47d5-8dad-9b65b002805d",
   "metadata": {},
   "outputs": [
    {
     "ename": "IndexError",
     "evalue": "invalid index to scalar variable.",
     "output_type": "error",
     "traceback": [
      "\u001b[1;31m---------------------------------------------------------------------------\u001b[0m",
      "\u001b[1;31mIndexError\u001b[0m                                Traceback (most recent call last)",
      "Cell \u001b[1;32mIn[49], line 6\u001b[0m\n\u001b[0;32m      4\u001b[0m data \u001b[38;5;241m=\u001b[39m np\u001b[38;5;241m.\u001b[39marray([\u001b[38;5;241m1\u001b[39m, \u001b[38;5;241m2\u001b[39m, \u001b[38;5;241m2\u001b[39m, \u001b[38;5;241m3\u001b[39m, \u001b[38;5;241m4\u001b[39m])\n\u001b[0;32m      5\u001b[0m mode_result \u001b[38;5;241m=\u001b[39m stats\u001b[38;5;241m.\u001b[39mmode(data)  \u001b[38;5;66;03m# returns ModeResult\u001b[39;00m\n\u001b[1;32m----> 6\u001b[0m mode \u001b[38;5;241m=\u001b[39m mode_result\u001b[38;5;241m.\u001b[39mmode[\u001b[38;5;241m0\u001b[39m]      \u001b[38;5;66;03m# ✅ correct way\u001b[39;00m\n\u001b[0;32m      7\u001b[0m \u001b[38;5;28mprint\u001b[39m(\u001b[38;5;124m\"\u001b[39m\u001b[38;5;124mMode:\u001b[39m\u001b[38;5;124m\"\u001b[39m, mode)\n",
      "\u001b[1;31mIndexError\u001b[0m: invalid index to scalar variable."
     ]
    }
   ],
   "source": [
    "from scipy import stats\n",
    "import numpy as np\n",
    "\n",
    "data = np.array([1, 2, 2, 3, 4])\n",
    "mode_result = stats.mode(data)  # returns ModeResult\n",
    "mode = mode_result.mode[0]      # ✅ correct way\n",
    "print(\"Mode:\", mode)"
   ]
  },
  {
   "cell_type": "code",
   "execution_count": 51,
   "id": "3aa911bc-5410-4931-8b10-81663d1e1f3a",
   "metadata": {},
   "outputs": [
    {
     "name": "stdout",
     "output_type": "stream",
     "text": [
      "Mode: 2\n"
     ]
    }
   ],
   "source": [
    "from scipy import stats\n",
    "import numpy as np\n",
    "\n",
    "data = np.array([1, 2, 2, 3, 4])\n",
    "mode_result = stats.mode(data, keepdims=True)\n",
    "mode = mode_result.mode[0]     # ✅ Access via .mode attribute\n",
    "print(\"Mode:\", mode)"
   ]
  },
  {
   "cell_type": "code",
   "execution_count": 53,
   "id": "985af182-63fa-4702-bbba-addae9265947",
   "metadata": {},
   "outputs": [
    {
     "name": "stdout",
     "output_type": "stream",
     "text": [
      "Mode: 3\n"
     ]
    }
   ],
   "source": [
    "from scipy import stats\n",
    "import numpy as np\n",
    "\n",
    "data = np.array([1, 2, 2, 3, 3, 3, 3, 4])\n",
    "mode_result = stats.mode(data, keepdims=True)\n",
    "mode = mode_result.mode[0]     # ✅ Access via .mode attribute\n",
    "print(\"Mode:\", mode)"
   ]
  },
  {
   "cell_type": "code",
   "execution_count": 55,
   "id": "d912b6ce-93aa-416a-855f-37dce8ad3bbd",
   "metadata": {},
   "outputs": [],
   "source": [
    "#Variance measures how spread out the data points are from the mean. It's calculated by averaging the squared differences between each data point and the mean."
   ]
  },
  {
   "cell_type": "code",
   "execution_count": 60,
   "id": "02a09c03-8f9b-4ce0-b0c3-5143d650ed07",
   "metadata": {},
   "outputs": [
    {
     "name": "stdout",
     "output_type": "stream",
     "text": [
      "2.0\n"
     ]
    }
   ],
   "source": [
    "data = np.array([1, 2, 3, 4, 5])\n",
    "variance = np.var(data)\n",
    "print(variance) # Output: 2.0"
   ]
  },
  {
   "cell_type": "code",
   "execution_count": 64,
   "id": "36c89059-49fa-4d4e-8a61-bebe2d38d290",
   "metadata": {},
   "outputs": [],
   "source": [
    "#Standard deviation is the square root of the variance. It also measures the spread of data around the mean, but it's on the same scale as the original data."
   ]
  },
  {
   "cell_type": "code",
   "execution_count": 66,
   "id": "ee9fe497-82b0-4575-ba88-45a631779932",
   "metadata": {},
   "outputs": [
    {
     "name": "stdout",
     "output_type": "stream",
     "text": [
      "1.4142135623730951\n"
     ]
    }
   ],
   "source": [
    "data = np.array([1, 2, 3, 4, 5])\n",
    "std_dev = np.std(data)\n",
    "print(std_dev) # Output: 1.4142135623730951"
   ]
  },
  {
   "cell_type": "code",
   "execution_count": 5,
   "id": "e580601b-6fea-4103-8e57-c0c1c38c9474",
   "metadata": {},
   "outputs": [
    {
     "data": {
      "text/plain": [
       "24"
      ]
     },
     "execution_count": 5,
     "metadata": {},
     "output_type": "execute_result"
    }
   ],
   "source": [
    "import numpy as np\n",
    "a1 = np.array([1,2,3,4])\n",
    "np.prod(a1,axis=0)"
   ]
  },
  {
   "cell_type": "code",
   "execution_count": 7,
   "id": "60be7246-c349-498f-b13e-e18cfc4f4cab",
   "metadata": {},
   "outputs": [
    {
     "ename": "AxisError",
     "evalue": "axis 1 is out of bounds for array of dimension 1",
     "output_type": "error",
     "traceback": [
      "\u001b[1;31m---------------------------------------------------------------------------\u001b[0m",
      "\u001b[1;31mAxisError\u001b[0m                                 Traceback (most recent call last)",
      "Cell \u001b[1;32mIn[7], line 3\u001b[0m\n\u001b[0;32m      1\u001b[0m \u001b[38;5;28;01mimport\u001b[39;00m \u001b[38;5;21;01mnumpy\u001b[39;00m \u001b[38;5;28;01mas\u001b[39;00m \u001b[38;5;21;01mnp\u001b[39;00m\n\u001b[0;32m      2\u001b[0m a1 \u001b[38;5;241m=\u001b[39m np\u001b[38;5;241m.\u001b[39marray([\u001b[38;5;241m1\u001b[39m,\u001b[38;5;241m2\u001b[39m,\u001b[38;5;241m3\u001b[39m,\u001b[38;5;241m4\u001b[39m])\n\u001b[1;32m----> 3\u001b[0m np\u001b[38;5;241m.\u001b[39mprod(a1,axis\u001b[38;5;241m=\u001b[39m\u001b[38;5;241m1\u001b[39m)\n",
      "File \u001b[1;32m~\\anaconda3\\Lib\\site-packages\\numpy\\core\\fromnumeric.py:3100\u001b[0m, in \u001b[0;36mprod\u001b[1;34m(a, axis, dtype, out, keepdims, initial, where)\u001b[0m\n\u001b[0;32m   2979\u001b[0m \u001b[38;5;129m@array_function_dispatch\u001b[39m(_prod_dispatcher)\n\u001b[0;32m   2980\u001b[0m \u001b[38;5;28;01mdef\u001b[39;00m \u001b[38;5;21mprod\u001b[39m(a, axis\u001b[38;5;241m=\u001b[39m\u001b[38;5;28;01mNone\u001b[39;00m, dtype\u001b[38;5;241m=\u001b[39m\u001b[38;5;28;01mNone\u001b[39;00m, out\u001b[38;5;241m=\u001b[39m\u001b[38;5;28;01mNone\u001b[39;00m, keepdims\u001b[38;5;241m=\u001b[39mnp\u001b[38;5;241m.\u001b[39m_NoValue,\n\u001b[0;32m   2981\u001b[0m          initial\u001b[38;5;241m=\u001b[39mnp\u001b[38;5;241m.\u001b[39m_NoValue, where\u001b[38;5;241m=\u001b[39mnp\u001b[38;5;241m.\u001b[39m_NoValue):\n\u001b[0;32m   2982\u001b[0m \u001b[38;5;250m    \u001b[39m\u001b[38;5;124;03m\"\"\"\u001b[39;00m\n\u001b[0;32m   2983\u001b[0m \u001b[38;5;124;03m    Return the product of array elements over a given axis.\u001b[39;00m\n\u001b[0;32m   2984\u001b[0m \n\u001b[1;32m   (...)\u001b[0m\n\u001b[0;32m   3098\u001b[0m \u001b[38;5;124;03m    10\u001b[39;00m\n\u001b[0;32m   3099\u001b[0m \u001b[38;5;124;03m    \"\"\"\u001b[39;00m\n\u001b[1;32m-> 3100\u001b[0m     \u001b[38;5;28;01mreturn\u001b[39;00m _wrapreduction(a, np\u001b[38;5;241m.\u001b[39mmultiply, \u001b[38;5;124m'\u001b[39m\u001b[38;5;124mprod\u001b[39m\u001b[38;5;124m'\u001b[39m, axis, dtype, out,\n\u001b[0;32m   3101\u001b[0m                           keepdims\u001b[38;5;241m=\u001b[39mkeepdims, initial\u001b[38;5;241m=\u001b[39minitial, where\u001b[38;5;241m=\u001b[39mwhere)\n",
      "File \u001b[1;32m~\\anaconda3\\Lib\\site-packages\\numpy\\core\\fromnumeric.py:88\u001b[0m, in \u001b[0;36m_wrapreduction\u001b[1;34m(obj, ufunc, method, axis, dtype, out, **kwargs)\u001b[0m\n\u001b[0;32m     85\u001b[0m         \u001b[38;5;28;01melse\u001b[39;00m:\n\u001b[0;32m     86\u001b[0m             \u001b[38;5;28;01mreturn\u001b[39;00m reduction(axis\u001b[38;5;241m=\u001b[39maxis, out\u001b[38;5;241m=\u001b[39mout, \u001b[38;5;241m*\u001b[39m\u001b[38;5;241m*\u001b[39mpasskwargs)\n\u001b[1;32m---> 88\u001b[0m \u001b[38;5;28;01mreturn\u001b[39;00m ufunc\u001b[38;5;241m.\u001b[39mreduce(obj, axis, dtype, out, \u001b[38;5;241m*\u001b[39m\u001b[38;5;241m*\u001b[39mpasskwargs)\n",
      "\u001b[1;31mAxisError\u001b[0m: axis 1 is out of bounds for array of dimension 1"
     ]
    }
   ],
   "source": [
    "import numpy as np\n",
    "a1 = np.array([1,2,3,4])\n",
    "np.prod(a1,axis=1)"
   ]
  },
  {
   "cell_type": "code",
   "execution_count": 11,
   "id": "63dca396-d053-4d88-a80a-fc4534a61095",
   "metadata": {},
   "outputs": [
    {
     "data": {
      "text/plain": [
       "array([0.48237893, 0.00784324, 0.04412574])"
      ]
     },
     "execution_count": 11,
     "metadata": {},
     "output_type": "execute_result"
    }
   ],
   "source": [
    "a1 = np.random.random((3,3))\n",
    "np.prod(a1,axis=0)"
   ]
  },
  {
   "cell_type": "code",
   "execution_count": 13,
   "id": "24b820c7-a514-4109-bf4b-5281ebf2da2c",
   "metadata": {},
   "outputs": [
    {
     "data": {
      "text/plain": [
       "array([0.01525833, 0.00067839, 0.07058984])"
      ]
     },
     "execution_count": 13,
     "metadata": {},
     "output_type": "execute_result"
    }
   ],
   "source": [
    "a1 = np.random.random((3,3))\n",
    "np.prod(a1,axis=1)"
   ]
  },
  {
   "cell_type": "code",
   "execution_count": 15,
   "id": "53d7c873-b37d-4c6f-9011-a0470d7d30e9",
   "metadata": {},
   "outputs": [],
   "source": [
    "a3 = np.arange(12,24).reshape(4,3)"
   ]
  },
  {
   "cell_type": "code",
   "execution_count": 17,
   "id": "00581b4d-9406-404a-928f-2c7a85605159",
   "metadata": {},
   "outputs": [
    {
     "data": {
      "text/plain": [
       "array([[12, 13, 14],\n",
       "       [15, 16, 17],\n",
       "       [18, 19, 20],\n",
       "       [21, 22, 23]])"
      ]
     },
     "execution_count": 17,
     "metadata": {},
     "output_type": "execute_result"
    }
   ],
   "source": [
    "a3"
   ]
  },
  {
   "cell_type": "code",
   "execution_count": 19,
   "id": "88e5eba0-301f-4d08-b3dd-feca311e22d3",
   "metadata": {},
   "outputs": [],
   "source": [
    "a2 = np.arange(12).reshape(3,4)"
   ]
  },
  {
   "cell_type": "code",
   "execution_count": 21,
   "id": "baa0b8a6-f44b-4750-8457-757472c7b00f",
   "metadata": {},
   "outputs": [
    {
     "data": {
      "text/plain": [
       "array([[ 0,  1,  2,  3],\n",
       "       [ 4,  5,  6,  7],\n",
       "       [ 8,  9, 10, 11]])"
      ]
     },
     "execution_count": 21,
     "metadata": {},
     "output_type": "execute_result"
    }
   ],
   "source": [
    "a2"
   ]
  },
  {
   "cell_type": "code",
   "execution_count": 35,
   "id": "7790bf45-3499-481a-9679-c2fe36421919",
   "metadata": {},
   "outputs": [
    {
     "data": {
      "text/plain": [
       "array([[114, 120, 126],\n",
       "       [378, 400, 422],\n",
       "       [642, 680, 718]])"
      ]
     },
     "execution_count": 35,
     "metadata": {},
     "output_type": "execute_result"
    }
   ],
   "source": [
    "a2 = np.arange(12).reshape(3,4)\n",
    "a3 = np.arange(12,24).reshape(4,3)\n",
    "np.dot(a2,a3)"
   ]
  },
  {
   "cell_type": "code",
   "execution_count": 41,
   "id": "15de2901-6ca0-4c15-bfc0-9b45d546d5f2",
   "metadata": {},
   "outputs": [
    {
     "name": "stdout",
     "output_type": "stream",
     "text": [
      "32\n"
     ]
    }
   ],
   "source": [
    "import numpy as np\n",
    "\n",
    "a = np.array([1, 2, 3])\n",
    "b = np.array([4, 5, 6])\n",
    "\n",
    "result = np.dot(a, b)\n",
    "print(result)"
   ]
  },
  {
   "cell_type": "code",
   "execution_count": 1,
   "id": "46c3db27-6d6a-4cd1-9aa1-932fc87a18eb",
   "metadata": {},
   "outputs": [
    {
     "data": {
      "text/plain": [
       "array([[[ 0,  1,  2],\n",
       "        [ 3,  4,  5],\n",
       "        [ 6,  7,  8]],\n",
       "\n",
       "       [[ 9, 10, 11],\n",
       "        [12, 13, 14],\n",
       "        [15, 16, 17]],\n",
       "\n",
       "       [[18, 19, 20],\n",
       "        [21, 22, 23],\n",
       "        [24, 25, 26]]])"
      ]
     },
     "execution_count": 1,
     "metadata": {},
     "output_type": "execute_result"
    }
   ],
   "source": [
    "import numpy as np\n",
    "a2 = np.arange(12).reshape(3,4)\n",
    "a2\n",
    "a3 = np.arange(27).reshape(3,3,3)\n",
    "a3"
   ]
  },
  {
   "cell_type": "code",
   "execution_count": 3,
   "id": "1c11e528-ce92-4c4d-a400-15268f8c687b",
   "metadata": {},
   "outputs": [
    {
     "data": {
      "text/plain": [
       "array([[ 0,  1,  2,  3],\n",
       "       [ 4,  5,  6,  7],\n",
       "       [ 8,  9, 10, 11]])"
      ]
     },
     "execution_count": 3,
     "metadata": {},
     "output_type": "execute_result"
    }
   ],
   "source": [
    "a2"
   ]
  },
  {
   "cell_type": "code",
   "execution_count": 6,
   "id": "b6823fd6-0415-4ece-b3e6-6e6e85812672",
   "metadata": {},
   "outputs": [
    {
     "data": {
      "text/plain": [
       "array([[[ 0,  1,  2],\n",
       "        [ 3,  4,  5],\n",
       "        [ 6,  7,  8]],\n",
       "\n",
       "       [[ 9, 10, 11],\n",
       "        [12, 13, 14],\n",
       "        [15, 16, 17]],\n",
       "\n",
       "       [[18, 19, 20],\n",
       "        [21, 22, 23],\n",
       "        [24, 25, 26]]])"
      ]
     },
     "execution_count": 6,
     "metadata": {},
     "output_type": "execute_result"
    }
   ],
   "source": [
    "a3"
   ]
  },
  {
   "cell_type": "code",
   "execution_count": 12,
   "id": "9b87c9cc-0d00-4436-afea-6e7a13ab1cd9",
   "metadata": {},
   "outputs": [
    {
     "data": {
      "text/plain": [
       "16"
      ]
     },
     "execution_count": 12,
     "metadata": {},
     "output_type": "execute_result"
    }
   ],
   "source": [
    "a3[1,2,1]"
   ]
  },
  {
   "cell_type": "code",
   "execution_count": 14,
   "id": "86a23a4f-9c38-4549-bc49-c89179934d66",
   "metadata": {},
   "outputs": [
    {
     "data": {
      "text/plain": [
       "array([[ 0,  1,  2,  3],\n",
       "       [ 4,  5,  6,  7],\n",
       "       [ 8,  9, 10, 11]])"
      ]
     },
     "execution_count": 14,
     "metadata": {},
     "output_type": "execute_result"
    }
   ],
   "source": [
    "a2 = np.arange(12).reshape(3,4)\n",
    "a2"
   ]
  },
  {
   "cell_type": "code",
   "execution_count": 48,
   "id": "43147de9-208b-438e-9afe-104f82d26002",
   "metadata": {},
   "outputs": [
    {
     "data": {
      "text/plain": [
       "array([[ 1,  3],\n",
       "       [ 5,  7],\n",
       "       [ 9, 11]])"
      ]
     },
     "execution_count": 48,
     "metadata": {},
     "output_type": "execute_result"
    }
   ],
   "source": [
    "a2[0:,1::2]"
   ]
  },
  {
   "cell_type": "code",
   "execution_count": 10,
   "id": "98dcc8c5-cffb-4db2-b593-74bd5b224049",
   "metadata": {},
   "outputs": [
    {
     "data": {
      "text/plain": [
       "array([[ 0,  1,  2,  3,  4,  5,  6,  7],\n",
       "       [ 8,  9, 10, 11, 12, 13, 14, 15],\n",
       "       [16, 17, 18, 19, 20, 21, 22, 23],\n",
       "       [24, 25, 26, 27, 28, 29, 30, 31],\n",
       "       [32, 33, 34, 35, 36, 37, 38, 39],\n",
       "       [40, 41, 42, 43, 44, 45, 46, 47],\n",
       "       [48, 49, 50, 51, 52, 53, 54, 55],\n",
       "       [56, 57, 58, 59, 60, 61, 62, 63]])"
      ]
     },
     "execution_count": 10,
     "metadata": {},
     "output_type": "execute_result"
    }
   ],
   "source": [
    "import numpy as np\n",
    "a4 = np.arange(64).reshape(8,8)\n",
    "a4"
   ]
  },
  {
   "cell_type": "code",
   "execution_count": null,
   "id": "0da45f93-b600-4269-8133-56a5fa9ac5c0",
   "metadata": {},
   "outputs": [],
   "source": [
    "# 1,6\n",
    "# 8,9 or 14,15\n",
    "# 0,7 or 56,63\n",
    "# 16,23,32,39\n",
    "# 40,46\n",
    "# 26,27,28,29\n",
    "# 48,49 or 54,55 "
   ]
  },
  {
   "cell_type": "code",
   "execution_count": 12,
   "id": "0ba65398-59fa-471a-93ba-fdc9d085b9b4",
   "metadata": {},
   "outputs": [
    {
     "data": {
      "text/plain": [
       "array([1, 6])"
      ]
     },
     "execution_count": 12,
     "metadata": {},
     "output_type": "execute_result"
    }
   ],
   "source": [
    " a4[0,1::5]"
   ]
  },
  {
   "cell_type": "code",
   "execution_count": 14,
   "id": "10756e5a-f7be-464d-b63a-e1bcae58ae64",
   "metadata": {},
   "outputs": [
    {
     "data": {
      "text/plain": [
       "array([8, 9])"
      ]
     },
     "execution_count": 14,
     "metadata": {},
     "output_type": "execute_result"
    }
   ],
   "source": [
    "a4[1,0:2]"
   ]
  },
  {
   "cell_type": "code",
   "execution_count": 16,
   "id": "dd1bdd0f-c9ec-4111-9fe3-1ee636cb6eaa",
   "metadata": {},
   "outputs": [
    {
     "data": {
      "text/plain": [
       "array([14, 15])"
      ]
     },
     "execution_count": 16,
     "metadata": {},
     "output_type": "execute_result"
    }
   ],
   "source": [
    "a4[1,6:]"
   ]
  },
  {
   "cell_type": "code",
   "execution_count": 20,
   "id": "78b444e7-2b2f-4a90-a46c-1edb792cf752",
   "metadata": {},
   "outputs": [
    {
     "data": {
      "text/plain": [
       "array([0, 7])"
      ]
     },
     "execution_count": 20,
     "metadata": {},
     "output_type": "execute_result"
    }
   ],
   "source": [
    "a4[0,0::7]"
   ]
  },
  {
   "cell_type": "code",
   "execution_count": 24,
   "id": "23ca3b9b-eeac-4cdb-937d-de0e4bb9694f",
   "metadata": {},
   "outputs": [
    {
     "data": {
      "text/plain": [
       "array([56, 63])"
      ]
     },
     "execution_count": 24,
     "metadata": {},
     "output_type": "execute_result"
    }
   ],
   "source": [
    "a4[7,0::7]"
   ]
  },
  {
   "cell_type": "code",
   "execution_count": 26,
   "id": "9f185aa5-a208-4563-9f2f-4aba652f6655",
   "metadata": {},
   "outputs": [
    {
     "data": {
      "text/plain": [
       "array([16, 23])"
      ]
     },
     "execution_count": 26,
     "metadata": {},
     "output_type": "execute_result"
    }
   ],
   "source": [
    "a4[2,0::7]"
   ]
  },
  {
   "cell_type": "code",
   "execution_count": 28,
   "id": "c7b7970e-1a4a-4ed9-832f-55abd8b548e6",
   "metadata": {},
   "outputs": [
    {
     "data": {
      "text/plain": [
       "array([32, 39])"
      ]
     },
     "execution_count": 28,
     "metadata": {},
     "output_type": "execute_result"
    }
   ],
   "source": [
    "a4[4,0::7]"
   ]
  },
  {
   "cell_type": "code",
   "execution_count": 32,
   "id": "172a9a50-0504-45fc-bdc5-61b0390a2a15",
   "metadata": {},
   "outputs": [
    {
     "data": {
      "text/plain": [
       "array([40, 46])"
      ]
     },
     "execution_count": 32,
     "metadata": {},
     "output_type": "execute_result"
    }
   ],
   "source": [
    "a4[5,0::6]"
   ]
  },
  {
   "cell_type": "code",
   "execution_count": 36,
   "id": "ba01e92a-fa05-44e1-867e-a23aeccb7e69",
   "metadata": {},
   "outputs": [
    {
     "data": {
      "text/plain": [
       "array([26, 27, 28, 29])"
      ]
     },
     "execution_count": 36,
     "metadata": {},
     "output_type": "execute_result"
    }
   ],
   "source": [
    "a4[3,2:6]"
   ]
  },
  {
   "cell_type": "code",
   "execution_count": 38,
   "id": "e8798616-3eb7-4097-82ef-3344c51bff75",
   "metadata": {},
   "outputs": [
    {
     "data": {
      "text/plain": [
       "array([48, 49])"
      ]
     },
     "execution_count": 38,
     "metadata": {},
     "output_type": "execute_result"
    }
   ],
   "source": [
    "a4[6,0:2]"
   ]
  },
  {
   "cell_type": "code",
   "execution_count": 40,
   "id": "b7fddb17-1613-4ac4-8719-89fb9b00a120",
   "metadata": {},
   "outputs": [
    {
     "data": {
      "text/plain": [
       "array([54, 55])"
      ]
     },
     "execution_count": 40,
     "metadata": {},
     "output_type": "execute_result"
    }
   ],
   "source": [
    "a4[6,6:]"
   ]
  },
  {
   "cell_type": "code",
   "execution_count": 42,
   "id": "dc6deb69-c6d9-493f-9c91-e66d1b7225ee",
   "metadata": {},
   "outputs": [
    {
     "data": {
      "text/plain": [
       "array([[[ 0,  1,  2,  3],\n",
       "        [ 4,  5,  6,  7],\n",
       "        [ 8,  9, 10, 11],\n",
       "        [12, 13, 14, 15]],\n",
       "\n",
       "       [[16, 17, 18, 19],\n",
       "        [20, 21, 22, 23],\n",
       "        [24, 25, 26, 27],\n",
       "        [28, 29, 30, 31]],\n",
       "\n",
       "       [[32, 33, 34, 35],\n",
       "        [36, 37, 38, 39],\n",
       "        [40, 41, 42, 43],\n",
       "        [44, 45, 46, 47]],\n",
       "\n",
       "       [[48, 49, 50, 51],\n",
       "        [52, 53, 54, 55],\n",
       "        [56, 57, 58, 59],\n",
       "        [60, 61, 62, 63]]])"
      ]
     },
     "execution_count": 42,
     "metadata": {},
     "output_type": "execute_result"
    }
   ],
   "source": [
    "import numpy as np\n",
    "a4 = np.arange(64).reshape(4,4,4)\n",
    "a4"
   ]
  },
  {
   "cell_type": "code",
   "execution_count": 44,
   "id": "2de3e07a-237a-46e4-a5a4-33ac097653f1",
   "metadata": {},
   "outputs": [
    {
     "data": {
      "text/plain": [
       "array([0, 2])"
      ]
     },
     "execution_count": 44,
     "metadata": {},
     "output_type": "execute_result"
    }
   ],
   "source": [
    "a4[0,0,0::2]"
   ]
  },
  {
   "cell_type": "code",
   "execution_count": 46,
   "id": "da0a12a1-71fd-4758-ab43-27721e0f7324",
   "metadata": {},
   "outputs": [
    {
     "data": {
      "text/plain": [
       "array([12, 15])"
      ]
     },
     "execution_count": 46,
     "metadata": {},
     "output_type": "execute_result"
    }
   ],
   "source": [
    "a4[0,3,0::3]"
   ]
  },
  {
   "cell_type": "code",
   "execution_count": 48,
   "id": "80b8f033-d5d9-4afa-81e8-b5405ce0eaa6",
   "metadata": {},
   "outputs": [
    {
     "data": {
      "text/plain": [
       "array([28, 31])"
      ]
     },
     "execution_count": 48,
     "metadata": {},
     "output_type": "execute_result"
    }
   ],
   "source": [
    "a4[1,3,0::3]"
   ]
  },
  {
   "cell_type": "code",
   "execution_count": 50,
   "id": "705decd1-ad56-42d3-9fe5-e55143176443",
   "metadata": {},
   "outputs": [
    {
     "data": {
      "text/plain": [
       "array([44, 47])"
      ]
     },
     "execution_count": 50,
     "metadata": {},
     "output_type": "execute_result"
    }
   ],
   "source": [
    "a4[2,3,0::3]"
   ]
  },
  {
   "cell_type": "code",
   "execution_count": 52,
   "id": "dd4d37f9-b428-4cd5-bea9-54ed1ccad8e5",
   "metadata": {},
   "outputs": [
    {
     "data": {
      "text/plain": [
       "array([60, 63])"
      ]
     },
     "execution_count": 52,
     "metadata": {},
     "output_type": "execute_result"
    }
   ],
   "source": [
    "a4[3,3,0::3]"
   ]
  },
  {
   "cell_type": "code",
   "execution_count": 56,
   "id": "b16da5ea-bf6d-483c-b63d-6051621480cb",
   "metadata": {},
   "outputs": [
    {
     "data": {
      "text/plain": [
       "array([[12, 15],\n",
       "       [28, 31],\n",
       "       [44, 47],\n",
       "       [60, 63]])"
      ]
     },
     "execution_count": 56,
     "metadata": {},
     "output_type": "execute_result"
    }
   ],
   "source": [
    "a4[0:,3,0::3]"
   ]
  },
  {
   "cell_type": "code",
   "execution_count": 58,
   "id": "7f12bc97-7b63-4e40-b033-654206f171de",
   "metadata": {},
   "outputs": [
    {
     "data": {
      "text/plain": [
       "array([[ 4,  6],\n",
       "       [20, 22],\n",
       "       [36, 38],\n",
       "       [52, 54]])"
      ]
     },
     "execution_count": 58,
     "metadata": {},
     "output_type": "execute_result"
    }
   ],
   "source": [
    "a4[0:,1,0::2]"
   ]
  },
  {
   "cell_type": "code",
   "execution_count": 62,
   "id": "a3da3dbe-5810-43ef-a5f9-db228a20d487",
   "metadata": {},
   "outputs": [
    {
     "data": {
      "text/plain": [
       "array([[11],\n",
       "       [27],\n",
       "       [43],\n",
       "       [59]])"
      ]
     },
     "execution_count": 62,
     "metadata": {},
     "output_type": "execute_result"
    }
   ],
   "source": [
    "a4[0:,2,3:]"
   ]
  },
  {
   "cell_type": "code",
   "execution_count": 66,
   "id": "2729e122-58b6-412e-9640-0081c095987e",
   "metadata": {},
   "outputs": [
    {
     "data": {
      "text/plain": [
       "array([[13, 14],\n",
       "       [29, 30],\n",
       "       [45, 46],\n",
       "       [61, 62]])"
      ]
     },
     "execution_count": 66,
     "metadata": {},
     "output_type": "execute_result"
    }
   ],
   "source": [
    "a4[0:,3,1:3]"
   ]
  },
  {
   "cell_type": "code",
   "execution_count": 3,
   "id": "7f44f8ad-bbf2-4eee-84b8-ae753c273b5b",
   "metadata": {},
   "outputs": [],
   "source": [
    "import numpy as np\n",
    "a = np.arange(10)"
   ]
  },
  {
   "cell_type": "code",
   "execution_count": 5,
   "id": "72459e12-5d1b-45b9-bbe7-2ed429885add",
   "metadata": {},
   "outputs": [
    {
     "data": {
      "text/plain": [
       "array([0, 1, 2, 3, 4, 5, 6, 7, 8, 9])"
      ]
     },
     "execution_count": 5,
     "metadata": {},
     "output_type": "execute_result"
    }
   ],
   "source": [
    "a"
   ]
  },
  {
   "cell_type": "code",
   "execution_count": 7,
   "id": "a61d4742-cd65-4a43-beb9-3a892fb5e933",
   "metadata": {},
   "outputs": [
    {
     "data": {
      "text/plain": [
       "array([2, 0, 9, 7, 3, 8])"
      ]
     },
     "execution_count": 7,
     "metadata": {},
     "output_type": "execute_result"
    }
   ],
   "source": [
    "a[[2,0,9,7,3,8]]"
   ]
  },
  {
   "cell_type": "code",
   "execution_count": 19,
   "id": "9903637f-6e8c-4223-913c-bbb872bf0752",
   "metadata": {},
   "outputs": [
    {
     "ename": "NameError",
     "evalue": "name 'array' is not defined",
     "output_type": "error",
     "traceback": [
      "\u001b[1;31m---------------------------------------------------------------------------\u001b[0m",
      "\u001b[1;31mNameError\u001b[0m                                 Traceback (most recent call last)",
      "Cell \u001b[1;32mIn[19], line 1\u001b[0m\n\u001b[1;32m----> 1\u001b[0m a2 \u001b[38;5;241m=\u001b[39m array([\u001b[38;5;241m1\u001b[39m,\u001b[38;5;241m8\u001b[39m,\u001b[38;5;241m6\u001b[39m,\u001b[38;5;241m7\u001b[39m,\u001b[38;5;241m9\u001b[39m,\u001b[38;5;241m4\u001b[39m,\u001b[38;5;241m3\u001b[39m,\u001b[38;5;241m5\u001b[39m,\u001b[38;5;241m55\u001b[39m,\u001b[38;5;241m88\u001b[39m,\u001b[38;5;241m75\u001b[39m,\u001b[38;5;241m94\u001b[39m,\u001b[38;5;241m63\u001b[39m])\n",
      "\u001b[1;31mNameError\u001b[0m: name 'array' is not defined"
     ]
    }
   ],
   "source": [
    "a2 = array([1,8,6,7,9,4,3,5,55,88,75,94,63])"
   ]
  },
  {
   "cell_type": "code",
   "execution_count": 21,
   "id": "4385b759-6cbf-4e56-9184-efa0e677f5c8",
   "metadata": {},
   "outputs": [],
   "source": [
    "a = np.arange(10,20)"
   ]
  },
  {
   "cell_type": "code",
   "execution_count": 23,
   "id": "fd3c63e9-a512-4ab8-93a2-cf1296617b48",
   "metadata": {},
   "outputs": [
    {
     "data": {
      "text/plain": [
       "array([10, 11, 12, 13, 14, 15, 16, 17, 18, 19])"
      ]
     },
     "execution_count": 23,
     "metadata": {},
     "output_type": "execute_result"
    }
   ],
   "source": [
    "a"
   ]
  },
  {
   "cell_type": "code",
   "execution_count": 25,
   "id": "bdccb2ec-41be-4824-9d58-4485c58444f0",
   "metadata": {},
   "outputs": [
    {
     "data": {
      "text/plain": [
       "array([13, 10, 19, 12, 18, 11, 15, 16, 14])"
      ]
     },
     "execution_count": 25,
     "metadata": {},
     "output_type": "execute_result"
    }
   ],
   "source": [
    "a[[3,0,9,2,8,1,5,6,4]]"
   ]
  },
  {
   "cell_type": "code",
   "execution_count": 37,
   "id": "a24c1c46-88f7-4aae-9609-3ff886f30d79",
   "metadata": {},
   "outputs": [],
   "source": [
    "a2 = np.arange(10).reshape(5,2)"
   ]
  },
  {
   "cell_type": "code",
   "execution_count": 39,
   "id": "a6b8a3f1-7756-4e5f-b273-4aa7ffd8e6c1",
   "metadata": {},
   "outputs": [
    {
     "data": {
      "text/plain": [
       "array([[0, 1],\n",
       "       [2, 3],\n",
       "       [4, 5],\n",
       "       [6, 7],\n",
       "       [8, 9]])"
      ]
     },
     "execution_count": 39,
     "metadata": {},
     "output_type": "execute_result"
    }
   ],
   "source": [
    "a2"
   ]
  },
  {
   "cell_type": "code",
   "execution_count": 41,
   "id": "2e2125d5-2334-4905-b07b-988529ba51a1",
   "metadata": {},
   "outputs": [
    {
     "data": {
      "text/plain": [
       "array([1, 2, 5, 6, 9])"
      ]
     },
     "execution_count": 41,
     "metadata": {},
     "output_type": "execute_result"
    }
   ],
   "source": [
    "a2[[0,1,2,3,4],[1,0,1,0,1]]"
   ]
  },
  {
   "cell_type": "code",
   "execution_count": 43,
   "id": "9af91587-63e3-4adc-b3a9-d4ffc8d8e29e",
   "metadata": {},
   "outputs": [],
   "source": [
    "a3 = np.arange(16).reshape(4,4)"
   ]
  },
  {
   "cell_type": "code",
   "execution_count": 45,
   "id": "9796d76b-59a9-44f1-8780-22a0069895b4",
   "metadata": {},
   "outputs": [
    {
     "data": {
      "text/plain": [
       "array([[ 0,  1,  2,  3],\n",
       "       [ 4,  5,  6,  7],\n",
       "       [ 8,  9, 10, 11],\n",
       "       [12, 13, 14, 15]])"
      ]
     },
     "execution_count": 45,
     "metadata": {},
     "output_type": "execute_result"
    }
   ],
   "source": [
    "a3"
   ]
  },
  {
   "cell_type": "code",
   "execution_count": null,
   "id": "8d28d5c6-55c0-4fb1-b102-4c504ead6c38",
   "metadata": {},
   "outputs": [],
   "source": [
    "#0,5,11,12,14,15,3,6,9,12,5,10"
   ]
  },
  {
   "cell_type": "code",
   "execution_count": 49,
   "id": "87c92f8a-d50d-4a5d-beb6-b3a4f1fcd885",
   "metadata": {},
   "outputs": [
    {
     "data": {
      "text/plain": [
       "array([ 0,  5, 10, 12, 14, 15,  3,  6,  9, 12,  5, 10])"
      ]
     },
     "execution_count": 49,
     "metadata": {},
     "output_type": "execute_result"
    }
   ],
   "source": [
    "a3[[0,1,2,3,3,3,0,1,2,3,1,2],[0,1,2,0,2,3,3,2,1,0,1,2]]"
   ]
  },
  {
   "cell_type": "code",
   "execution_count": 51,
   "id": "b49f4e22-f3cc-4698-a19e-910803f3d0ee",
   "metadata": {},
   "outputs": [],
   "source": [
    "a4 = np.arange(64).reshape(8,8)"
   ]
  },
  {
   "cell_type": "code",
   "execution_count": 53,
   "id": "262f5fc5-1d9a-4e92-9a57-4a63673c1435",
   "metadata": {},
   "outputs": [
    {
     "data": {
      "text/plain": [
       "array([[ 0,  1,  2,  3,  4,  5,  6,  7],\n",
       "       [ 8,  9, 10, 11, 12, 13, 14, 15],\n",
       "       [16, 17, 18, 19, 20, 21, 22, 23],\n",
       "       [24, 25, 26, 27, 28, 29, 30, 31],\n",
       "       [32, 33, 34, 35, 36, 37, 38, 39],\n",
       "       [40, 41, 42, 43, 44, 45, 46, 47],\n",
       "       [48, 49, 50, 51, 52, 53, 54, 55],\n",
       "       [56, 57, 58, 59, 60, 61, 62, 63]])"
      ]
     },
     "execution_count": 53,
     "metadata": {},
     "output_type": "execute_result"
    }
   ],
   "source": [
    "a4"
   ]
  },
  {
   "cell_type": "code",
   "execution_count": null,
   "id": "60ac19df-da46-4bc5-995f-7a255f75bc43",
   "metadata": {},
   "outputs": [],
   "source": [
    "#0,7,8,15,56,58,20,29,38,47,14,21,28,35,42,49,24,30,16,22,41,46,53,51,48,6,13,20,33,42,51"
   ]
  },
  {
   "cell_type": "code",
   "execution_count": 55,
   "id": "ecb6114a-ffa1-4988-876a-ae84f6f0707f",
   "metadata": {},
   "outputs": [
    {
     "data": {
      "text/plain": [
       "array([ 0,  7,  8, 15, 56, 58, 20, 29, 38, 47, 14, 21, 28, 35, 42, 49, 24,\n",
       "       30, 16, 22, 41, 46, 53, 51, 48,  6, 13, 28, 33, 42, 51])"
      ]
     },
     "execution_count": 55,
     "metadata": {},
     "output_type": "execute_result"
    }
   ],
   "source": [
    "a4[[0,0,1,1,7,7,2,3,4,5,1,2,3,4,5,6,3,3,2,2,5,5,6,6,6,0,1,3,4,5,6],[0,7,0,7,0,2,4,5,6,7,6,5,4,3,2,1,0,6,0,6,1,6,5,3,0,6,5,4,1,2,3]]"
   ]
  },
  {
   "cell_type": "code",
   "execution_count": 57,
   "id": "bcee7495-eb31-4ae2-85c2-4860752df189",
   "metadata": {},
   "outputs": [],
   "source": [
    "a5 = np.arange(64).reshape(4,4,4)"
   ]
  },
  {
   "cell_type": "code",
   "execution_count": 59,
   "id": "9a318354-b94b-463b-9911-405fa9ce099b",
   "metadata": {},
   "outputs": [
    {
     "data": {
      "text/plain": [
       "array([[[ 0,  1,  2,  3],\n",
       "        [ 4,  5,  6,  7],\n",
       "        [ 8,  9, 10, 11],\n",
       "        [12, 13, 14, 15]],\n",
       "\n",
       "       [[16, 17, 18, 19],\n",
       "        [20, 21, 22, 23],\n",
       "        [24, 25, 26, 27],\n",
       "        [28, 29, 30, 31]],\n",
       "\n",
       "       [[32, 33, 34, 35],\n",
       "        [36, 37, 38, 39],\n",
       "        [40, 41, 42, 43],\n",
       "        [44, 45, 46, 47]],\n",
       "\n",
       "       [[48, 49, 50, 51],\n",
       "        [52, 53, 54, 55],\n",
       "        [56, 57, 58, 59],\n",
       "        [60, 61, 62, 63]]])"
      ]
     },
     "execution_count": 59,
     "metadata": {},
     "output_type": "execute_result"
    }
   ],
   "source": [
    "a5"
   ]
  },
  {
   "cell_type": "code",
   "execution_count": null,
   "id": "a5ec36c9-50ef-45f0-8974-b03190e149bc",
   "metadata": {},
   "outputs": [],
   "source": [
    "#0,3,12,15,16,21,26,31,35,38,41,44,48,53,58,63"
   ]
  },
  {
   "cell_type": "code",
   "execution_count": 6,
   "id": "a31cddae-2d16-4faf-9dcb-f6e9e3279be0",
   "metadata": {},
   "outputs": [],
   "source": [
    "import numpy as np\n",
    "a = np.arange(12).reshape(4,3)\n",
    "b = np.arange(3)"
   ]
  },
  {
   "cell_type": "code",
   "execution_count": 8,
   "id": "2b06b23a-dc61-4283-b570-7d71f627c7c8",
   "metadata": {},
   "outputs": [
    {
     "data": {
      "text/plain": [
       "array([[ 0,  1,  2],\n",
       "       [ 3,  4,  5],\n",
       "       [ 6,  7,  8],\n",
       "       [ 9, 10, 11]])"
      ]
     },
     "execution_count": 8,
     "metadata": {},
     "output_type": "execute_result"
    }
   ],
   "source": [
    "a"
   ]
  },
  {
   "cell_type": "code",
   "execution_count": 10,
   "id": "50bf540c-7f69-4903-b0b5-80b947736a49",
   "metadata": {},
   "outputs": [
    {
     "data": {
      "text/plain": [
       "array([0, 1, 2])"
      ]
     },
     "execution_count": 10,
     "metadata": {},
     "output_type": "execute_result"
    }
   ],
   "source": [
    "b"
   ]
  },
  {
   "cell_type": "code",
   "execution_count": 12,
   "id": "936c79c5-5f3d-4cb4-acb1-573fcfeed294",
   "metadata": {},
   "outputs": [],
   "source": [
    "b = np.arange(4)"
   ]
  },
  {
   "cell_type": "code",
   "execution_count": 14,
   "id": "c31010d9-3a02-4f7a-88ca-cbcc6f19775c",
   "metadata": {},
   "outputs": [
    {
     "data": {
      "text/plain": [
       "array([0, 1, 2, 3])"
      ]
     },
     "execution_count": 14,
     "metadata": {},
     "output_type": "execute_result"
    }
   ],
   "source": [
    "b"
   ]
  },
  {
   "cell_type": "code",
   "execution_count": 21,
   "id": "1da3300e-d054-441f-8870-5772f58adba2",
   "metadata": {},
   "outputs": [],
   "source": [
    "a = np.arange(12).reshape(4,3)\n",
    "b = np.arange(4)"
   ]
  },
  {
   "cell_type": "code",
   "execution_count": 23,
   "id": "76151670-1904-4e0c-8e40-791570c2c6d5",
   "metadata": {},
   "outputs": [
    {
     "ename": "ValueError",
     "evalue": "operands could not be broadcast together with shapes (4,3) (4,) ",
     "output_type": "error",
     "traceback": [
      "\u001b[1;31m---------------------------------------------------------------------------\u001b[0m",
      "\u001b[1;31mValueError\u001b[0m                                Traceback (most recent call last)",
      "Cell \u001b[1;32mIn[23], line 1\u001b[0m\n\u001b[1;32m----> 1\u001b[0m a\u001b[38;5;241m+\u001b[39mb\n",
      "\u001b[1;31mValueError\u001b[0m: operands could not be broadcast together with shapes (4,3) (4,) "
     ]
    }
   ],
   "source": [
    "a+b"
   ]
  },
  {
   "cell_type": "code",
   "execution_count": 25,
   "id": "d6dc39b7-c8f7-47d8-8483-f36cc5681971",
   "metadata": {},
   "outputs": [],
   "source": [
    "a = np.arange(12).reshape(4,3)\n",
    "b = np.arange(3)"
   ]
  },
  {
   "cell_type": "code",
   "execution_count": 27,
   "id": "1c072c32-8453-47bc-8dfd-85f1a74f8c52",
   "metadata": {},
   "outputs": [
    {
     "data": {
      "text/plain": [
       "array([[ 0,  2,  4],\n",
       "       [ 3,  5,  7],\n",
       "       [ 6,  8, 10],\n",
       "       [ 9, 11, 13]])"
      ]
     },
     "execution_count": 27,
     "metadata": {},
     "output_type": "execute_result"
    }
   ],
   "source": [
    "a+b"
   ]
  },
  {
   "cell_type": "code",
   "execution_count": 29,
   "id": "62d7e0aa-d8fc-42fb-822b-d2cf42efc5b2",
   "metadata": {},
   "outputs": [
    {
     "name": "stdout",
     "output_type": "stream",
     "text": [
      "[1]\n",
      "[[0 1]\n",
      " [2 3]]\n",
      "[[1 2]\n",
      " [3 4]]\n"
     ]
    }
   ],
   "source": [
    "a = np.array([1])\n",
    "# shape -> (1,1)\n",
    "b = np.arange(4).reshape(2,2)\n",
    "# shape -> (2,2)\n",
    "\n",
    "print(a)\n",
    "print(b)\n",
    "\n",
    "print(a+b)"
   ]
  },
  {
   "cell_type": "code",
   "execution_count": 34,
   "id": "de29dc72-08ea-45d4-8a2f-1432d058b918",
   "metadata": {},
   "outputs": [
    {
     "name": "stdout",
     "output_type": "stream",
     "text": [
      "[[ 0  1  2  3]\n",
      " [ 4  5  6  7]\n",
      " [ 8  9 10 11]]\n",
      "[[ 0  1  2]\n",
      " [ 3  4  5]\n",
      " [ 6  7  8]\n",
      " [ 9 10 11]]\n"
     ]
    },
    {
     "ename": "ValueError",
     "evalue": "operands could not be broadcast together with shapes (3,4) (4,3) ",
     "output_type": "error",
     "traceback": [
      "\u001b[1;31m---------------------------------------------------------------------------\u001b[0m",
      "\u001b[1;31mValueError\u001b[0m                                Traceback (most recent call last)",
      "Cell \u001b[1;32mIn[34], line 7\u001b[0m\n\u001b[0;32m      4\u001b[0m \u001b[38;5;28mprint\u001b[39m(a)\n\u001b[0;32m      5\u001b[0m \u001b[38;5;28mprint\u001b[39m(b)\n\u001b[1;32m----> 7\u001b[0m \u001b[38;5;28mprint\u001b[39m(a\u001b[38;5;241m+\u001b[39mb)\n",
      "\u001b[1;31mValueError\u001b[0m: operands could not be broadcast together with shapes (3,4) (4,3) "
     ]
    }
   ],
   "source": [
    "a = np.arange(12).reshape(3,4)\n",
    "b = np.arange(12).reshape(4,3)\n",
    "\n",
    "print(a)\n",
    "print(b)\n",
    "\n",
    "print(a+b)"
   ]
  },
  {
   "cell_type": "code",
   "execution_count": 40,
   "id": "38fae2fc-5634-49bb-9419-07bad34989d2",
   "metadata": {},
   "outputs": [
    {
     "name": "stdout",
     "output_type": "stream",
     "text": [
      "[0]\n",
      "[[ 0  1  2]\n",
      " [ 3  4  5]\n",
      " [ 6  7  8]\n",
      " [ 9 10 11]]\n",
      "[[ 0  1  2]\n",
      " [ 3  4  5]\n",
      " [ 6  7  8]\n",
      " [ 9 10 11]]\n"
     ]
    }
   ],
   "source": [
    "a = np.arange(1).reshape(1)\n",
    "b = np.arange(12).reshape(4,3)\n",
    "\n",
    "print(a)\n",
    "print(b)\n",
    "\n",
    "print(a+b)"
   ]
  },
  {
   "cell_type": "code",
   "execution_count": 47,
   "id": "a4b62a66-cac3-4c23-be5f-ab84d2940745",
   "metadata": {},
   "outputs": [
    {
     "name": "stdout",
     "output_type": "stream",
     "text": [
      "[0]\n",
      "[[0 1]\n",
      " [2 3]]\n",
      "[[0 1]\n",
      " [2 3]]\n"
     ]
    }
   ],
   "source": [
    "a = np.arange(1).reshape(1)\n",
    "b = np.arange(4).reshape(2,2)\n",
    "\n",
    "print(a)\n",
    "print(b)\n",
    "\n",
    "print(a+b)"
   ]
  },
  {
   "cell_type": "code",
   "execution_count": 53,
   "id": "8d43bce7-4f3f-45f5-86b3-75bc9b2f05a4",
   "metadata": {},
   "outputs": [
    {
     "name": "stdout",
     "output_type": "stream",
     "text": [
      "[[0 1]\n",
      " [2 3]]\n",
      "[[ 0  1  2  3]\n",
      " [ 4  5  6  7]\n",
      " [ 8  9 10 11]\n",
      " [12 13 14 15]]\n"
     ]
    },
    {
     "ename": "ValueError",
     "evalue": "operands could not be broadcast together with shapes (2,2) (4,4) ",
     "output_type": "error",
     "traceback": [
      "\u001b[1;31m---------------------------------------------------------------------------\u001b[0m",
      "\u001b[1;31mValueError\u001b[0m                                Traceback (most recent call last)",
      "Cell \u001b[1;32mIn[53], line 6\u001b[0m\n\u001b[0;32m      3\u001b[0m \u001b[38;5;28mprint\u001b[39m(a)\n\u001b[0;32m      4\u001b[0m \u001b[38;5;28mprint\u001b[39m(b)\n\u001b[1;32m----> 6\u001b[0m \u001b[38;5;28mprint\u001b[39m(a\u001b[38;5;241m+\u001b[39mb)\n",
      "\u001b[1;31mValueError\u001b[0m: operands could not be broadcast together with shapes (2,2) (4,4) "
     ]
    }
   ],
   "source": [
    "a = np.arange(4).reshape(2,2)\n",
    "b = np.arange(16).reshape(4,4)\n",
    "print(a)\n",
    "print(b)\n",
    "\n",
    "print(a+b)"
   ]
  },
  {
   "cell_type": "code",
   "execution_count": 60,
   "id": "fdbfb84e-cf03-4788-88b4-32310885ec3e",
   "metadata": {},
   "outputs": [
    {
     "name": "stdout",
     "output_type": "stream",
     "text": [
      "[0]\n",
      "[[ 0  1  2  3]\n",
      " [ 4  5  6  7]\n",
      " [ 8  9 10 11]\n",
      " [12 13 14 15]]\n",
      "[[ 0  1  2  3]\n",
      " [ 4  5  6  7]\n",
      " [ 8  9 10 11]\n",
      " [12 13 14 15]]\n"
     ]
    }
   ],
   "source": [
    "a = np.arange(1).reshape(1)\n",
    "b = np.arange(16).reshape(4,4)\n",
    "print(a)\n",
    "print(b)\n",
    "\n",
    "print(a+b)"
   ]
  },
  {
   "cell_type": "code",
   "execution_count": null,
   "id": "235972fc-1ba2-443f-bc84-a093ed8f7a6e",
   "metadata": {},
   "outputs": [],
   "source": []
  },
  {
   "cell_type": "code",
   "execution_count": null,
   "id": "a623ae69-18d9-49ca-a6cf-2e21dbca530a",
   "metadata": {},
   "outputs": [],
   "source": []
  },
  {
   "cell_type": "code",
   "execution_count": null,
   "id": "0a0699cb-c7c7-418f-a5f9-851883e53281",
   "metadata": {},
   "outputs": [],
   "source": []
  }
 ],
 "metadata": {
  "kernelspec": {
   "display_name": "Python [conda env:base] *",
   "language": "python",
   "name": "conda-base-py"
  },
  "language_info": {
   "codemirror_mode": {
    "name": "ipython",
    "version": 3
   },
   "file_extension": ".py",
   "mimetype": "text/x-python",
   "name": "python",
   "nbconvert_exporter": "python",
   "pygments_lexer": "ipython3",
   "version": "3.12.7"
  }
 },
 "nbformat": 4,
 "nbformat_minor": 5
}
